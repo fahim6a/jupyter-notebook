{
 "cells": [
  {
   "cell_type": "code",
   "execution_count": 1,
   "metadata": {},
   "outputs": [
    {
     "name": "stdout",
     "output_type": "stream",
     "text": [
      "Hello World\n"
     ]
    }
   ],
   "source": [
    "print(\"Hello World\"); "
   ]
  },
  {
   "cell_type": "code",
   "execution_count": 2,
   "metadata": {},
   "outputs": [
    {
     "name": "stdout",
     "output_type": "stream",
     "text": [
      "Hello Fahim\n"
     ]
    }
   ],
   "source": [
    "print(\"Hello Fahim\");"
   ]
  },
  {
   "cell_type": "code",
   "execution_count": 3,
   "metadata": {},
   "outputs": [
    {
     "data": {
      "text/plain": [
       "10.0"
      ]
     },
     "execution_count": 3,
     "metadata": {},
     "output_type": "execute_result"
    }
   ],
   "source": [
    "(10+10)/2"
   ]
  },
  {
   "cell_type": "code",
   "execution_count": 29,
   "metadata": {},
   "outputs": [
    {
     "name": "stdout",
     "output_type": "stream",
     "text": [
      "England\n",
      "England_Cricket\n",
      "15\n",
      "30\n"
     ]
    }
   ],
   "source": [
    "Country = \"England\";  # country is a variable and England is a assigned value \n",
    "Team = \"England_Cricket\";\n",
    "match=15;\n",
    "age =30;\n",
    "\n",
    "print(Country); # we print the value by calling the variable name \n",
    "print(Team);\n",
    "print(match);\n",
    "print(age);"
   ]
  },
  {
   "cell_type": "code",
   "execution_count": 17,
   "metadata": {},
   "outputs": [
    {
     "data": {
      "text/plain": [
       "True"
      ]
     },
     "execution_count": 17,
     "metadata": {},
     "output_type": "execute_result"
    }
   ],
   "source": [
    "# for the statement \n",
    "10*3==30\n"
   ]
  },
  {
   "cell_type": "code",
   "execution_count": 33,
   "metadata": {},
   "outputs": [
    {
     "name": "stdout",
     "output_type": "stream",
     "text": [
      "Adult\n"
     ]
    }
   ],
   "source": [
    "if age >= 18:\n",
    "    print('Adult')\n",
    "else:\n",
    "    print('Minor')"
   ]
  },
  {
   "cell_type": "code",
   "execution_count": 34,
   "metadata": {},
   "outputs": [
    {
     "name": "stdout",
     "output_type": "stream",
     "text": [
      "1\n",
      "2\n",
      "3\n",
      "4\n",
      "5\n",
      "6\n",
      "7\n",
      "8\n",
      "9\n",
      "10\n"
     ]
    }
   ],
   "source": [
    "#loop\n",
    "for number in [1,2,3,4,5,6,7,8,9,10]:\n",
    "    print(number);"
   ]
  },
  {
   "cell_type": "code",
   "execution_count": 35,
   "metadata": {},
   "outputs": [
    {
     "name": "stdout",
     "output_type": "stream",
     "text": [
      "0.3333333333333333\n",
      "0.6666666666666666\n",
      "1.0\n",
      "1.3333333333333333\n",
      "1.6666666666666667\n",
      "2.0\n"
     ]
    }
   ],
   "source": [
    "my_list = [1,2,3,4,5,6] #store my number in a variable called my_list\n",
    "\n",
    "for x in my_list: # run a loop from x to my_list\n",
    "    print(x/3); #print the number of my_list is divided by 3 "
   ]
  },
  {
   "cell_type": "code",
   "execution_count": 36,
   "metadata": {},
   "outputs": [
    {
     "name": "stdout",
     "output_type": "stream",
     "text": [
      "minor\n"
     ]
    }
   ],
   "source": [
    "# conditional functions with many more condition. we've seen  confitional statement earlier eg. age is greater than 18 return \n",
    "#adult else return minor. in this block we'll see how the functions work and how to use it.\n",
    "\n",
    "def is_adult (age):\n",
    "    \n",
    "    if age >= 18:\n",
    "        print('adult')\n",
    "        \n",
    "    else:\n",
    "        print('minor')\n",
    "        \n",
    "is_adult(14);"
   ]
  },
  {
   "cell_type": "code",
   "execution_count": 39,
   "metadata": {},
   "outputs": [
    {
     "data": {
      "text/plain": [
       "[1, 5, 8, 9, 10, 15, 25, 49, 78]"
      ]
     },
     "execution_count": 39,
     "metadata": {},
     "output_type": "execute_result"
    }
   ],
   "source": [
    "# Built-in functions \n",
    "\n",
    "new_list = [1,5,8,9,10,15,78,49,25] \n",
    "sorted(new_list) # here sorted is the built-in functions that helps us to automatically re-arrange our number from A-Z order."
   ]
  },
  {
   "cell_type": "code",
   "execution_count": null,
   "metadata": {},
   "outputs": [],
   "source": []
  }
 ],
 "metadata": {
  "kernelspec": {
   "display_name": "Python 3",
   "language": "python",
   "name": "python3"
  },
  "language_info": {
   "codemirror_mode": {
    "name": "ipython",
    "version": 3
   },
   "file_extension": ".py",
   "mimetype": "text/x-python",
   "name": "python",
   "nbconvert_exporter": "python",
   "pygments_lexer": "ipython3",
   "version": "3.7.6"
  }
 },
 "nbformat": 4,
 "nbformat_minor": 4
}
